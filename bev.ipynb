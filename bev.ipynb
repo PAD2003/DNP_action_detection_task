{
 "cells": [
  {
   "cell_type": "code",
   "execution_count": 1,
   "metadata": {},
   "outputs": [],
   "source": [
    "# get data\n",
    "\n",
    "import json\n",
    "def extractData(file_path) -> dict:\n",
    "    data_dict = {}\n",
    "    with open(file_path) as file:\n",
    "        # for each line in the json line file, each line corresponds to one frame\n",
    "        for idx, line in enumerate(file):\n",
    "            # load the json line as a dictionary\n",
    "            data = json.loads(line)\n",
    "            data_dict[idx] = data\n",
    "    return data_dict\n",
    "\n",
    "data = extractData(\"output/re_id/pose_reid.jl\")"
   ]
  },
  {
   "cell_type": "code",
   "execution_count": 12,
   "metadata": {},
   "outputs": [
    {
     "name": "stdout",
     "output_type": "stream",
     "text": [
      "12: (117.0, 291.0)\n",
      "11: (440.0, 221.0)\n",
      "10: (492.0, 380.0)\n",
      "9: (597.0, 509.0)\n",
      "8: (36.0, 209.0)\n",
      "7: (60.0, 179.5)\n",
      "6: (383.0, 485.0)\n",
      "5: (259.0, 403.0)\n",
      "4: (733.0, 437.0)\n",
      "3: (590.0, 279.0)\n",
      "2: (960.0, 273.0)\n",
      "1: (564.0, 571.5)\n"
     ]
    }
   ],
   "source": [
    "# getPositionOfAllPeopleInOneFrame\n",
    "\n",
    "def centerBoundingBox(bbox) -> tuple:\n",
    "    [tl_coord2d_x, tl_coord2d_y] = bbox[\"tl_coord2d\"]\n",
    "    [br_coord2d_x, br_coord2d_y] = bbox[\"br_coord2d\"]\n",
    "    \n",
    "    center_x = (tl_coord2d_x + br_coord2d_x) / 2\n",
    "    center_y = (tl_coord2d_y + br_coord2d_y) / 2\n",
    "\n",
    "    return (center_x, center_y)\n",
    "\n",
    "def getAllCenters(frame_data):\n",
    "    bboxs = frame_data[\"approach\"]\n",
    "\n",
    "    centers = {}\n",
    "    for id, bbox in bboxs.items():\n",
    "        centers[id] = centerBoundingBox(bbox)\n",
    "    \n",
    "    return centers\n",
    "\n",
    "centers = getAllCenters(data[10])\n",
    "\n",
    "for label, world_point in centers.items():\n",
    "    print(f'{label}: {world_point}')"
   ]
  },
  {
   "cell_type": "code",
   "execution_count": 8,
   "metadata": {},
   "outputs": [
    {
     "data": {
      "image/png": "[encoded data removed]",
      "text/plain": [
       "<Figure size 1000x600 with 1 Axes>"
      ]
     },
     "metadata": {},
     "output_type": "display_data"
    }
   ],
   "source": [
    "# visualize image cordinates\n",
    "import matplotlib.pyplot as plt\n",
    "\n",
    "x_coords = [coord[0] for coord in centers.values()]\n",
    "y_coords = [coord[1] for coord in centers.values()]\n",
    "\n",
    "plt.figure(figsize=(10, 6))\n",
    "plt.scatter(x_coords, y_coords, color='blue', marker='o')\n",
    "\n",
    "for label, (x, y) in centers.items():\n",
    "    plt.text(x, y, label)\n",
    "\n",
    "plt.title('IMAGE CORDINATES')\n",
    "plt.xlabel('X Coordinate')\n",
    "plt.ylabel('Y Coordinate')\n",
    "\n",
    "plt.grid(True)\n",
    "plt.show()"
   ]
  },
  {
   "cell_type": "code",
   "execution_count": 11,
   "metadata": {},
   "outputs": [],
   "source": [
    "import numpy as np\n",
    "\n",
    "def pixel_to_world(pixel_coords, camera_parameters):\n",
    "    \"\"\"Converts pixel coordinates to world coordinates.\n",
    "\n",
    "    Args:\n",
    "    pixel_coords: The pixel coordinates in (u, v) format.\n",
    "    camera_parameters: The camera parameters, including the intrinsics and extrinsics.\n",
    "\n",
    "    Returns:\n",
    "    The world coordinates of the pixel.\n",
    "    \"\"\"\n",
    "\n",
    "    # Define the pixel center.\n",
    "    print(pixel_coords)\n",
    "    pixel_center = (pixel_coords[1] / 2, pixel_coords[0] / 2)\n",
    "\n",
    "    # Calculate the pixel to world transformation matrix.\n",
    "    pixel_to_world_matrix = camera_parameters.get_pixel_to_world_matrix()\n",
    "\n",
    "    # Multiply the pixel coordinates by the pixel to world transformation matrix.\n",
    "    world_coords = np.matmul(pixel_to_world_matrix, pixel_coords - pixel_center)\n",
    "\n",
    "    return world_coords"
   ]
  },
  {
   "cell_type": "code",
   "execution_count": 6,
   "metadata": {},
   "outputs": [],
   "source": [
    "class CameraParameters:\n",
    "    \"\"\"Defines the camera parameters.\n",
    "\n",
    "    Attributes:\n",
    "    focal_length: The focal length of the camera in pixels.\n",
    "    principal_point: The principal point of the camera in pixels.\n",
    "    skew: The skew of the camera.\n",
    "    translation: The translation of the camera in world coordinates.\n",
    "    rotation: The rotation of the camera in world coordinates.\n",
    "    \"\"\"\n",
    "\n",
    "    def __init__(self, focal_length=(1000, 1000), principal_point=(500, 500),\n",
    "                skew=0, translation=(0, 0, 0), rotation=np.eye(3)):\n",
    "        \"\"\"Initializes the camera parameters.\n",
    "\n",
    "        Args:\n",
    "            focal_length: The focal length of the camera in pixels.\n",
    "            principal_point: The principal point of the camera in pixels.\n",
    "            skew: The skew of the camera.\n",
    "            translation: The translation of the camera in world coordinates.\n",
    "            rotation: The rotation of the camera in world coordinates.\n",
    "        \"\"\"\n",
    "        self.focal_length = focal_length\n",
    "        self.principal_point = principal_point\n",
    "        self.skew = skew\n",
    "        self.translation = translation\n",
    "        self.rotation = rotation\n",
    "\n",
    "    def get_pixel_to_world_matrix(self):\n",
    "        \"\"\"Gets the pixel to world transformation matrix.\n",
    "\n",
    "        Returns:\n",
    "            The pixel to world transformation matrix.\n",
    "        \"\"\"\n",
    "        K = np.array([[self.focal_length[0], 0, self.principal_point[0]],\n",
    "                        [0, self.focal_length[1], self.principal_point[1]],\n",
    "                        [0, 0, 1]])\n",
    "        R = self.rotation\n",
    "        t = np.array(self.translation)\n",
    "\n",
    "        pixel_to_world_matrix = np.linalg.inv(K) @ R @ np.vstack((t, [1]))\n",
    "\n",
    "        return pixel_to_world_matrix\n"
   ]
  },
  {
   "cell_type": "code",
   "execution_count": 12,
   "metadata": {},
   "outputs": [
    {
     "name": "stdout",
     "output_type": "stream",
     "text": [
      "[200 200]\n"
     ]
    },
    {
     "ename": "ValueError",
     "evalue": "all the input array dimensions except for the concatenation axis must match exactly, but along dimension 1, the array at index 0 has size 3 and the array at index 1 has size 1",
     "output_type": "error",
     "traceback": [
      "\u001b[0;31m---------------------------------------------------------------------------\u001b[0m",
      "\u001b[0;31mValueError\u001b[0m                                Traceback (most recent call last)",
      "Cell \u001b[0;32mIn[12], line 7\u001b[0m\n\u001b[1;32m      4\u001b[0m pixel_coords \u001b[39m=\u001b[39m np\u001b[39m.\u001b[39marray([\u001b[39m200\u001b[39m, \u001b[39m200\u001b[39m])\n\u001b[1;32m      6\u001b[0m \u001b[39m# Convert the pixel coordinates to world coordinates.\u001b[39;00m\n\u001b[0;32m----> 7\u001b[0m world_coords \u001b[39m=\u001b[39m pixel_to_world(pixel_coords, camera_parameters)\n\u001b[1;32m      9\u001b[0m \u001b[39mprint\u001b[39m(world_coords)\n",
      "Cell \u001b[0;32mIn[11], line 19\u001b[0m, in \u001b[0;36mpixel_to_world\u001b[0;34m(pixel_coords, camera_parameters)\u001b[0m\n\u001b[1;32m     16\u001b[0m pixel_center \u001b[39m=\u001b[39m (pixel_coords[\u001b[39m1\u001b[39m] \u001b[39m/\u001b[39m \u001b[39m2\u001b[39m, pixel_coords[\u001b[39m0\u001b[39m] \u001b[39m/\u001b[39m \u001b[39m2\u001b[39m)\n\u001b[1;32m     18\u001b[0m \u001b[39m# Calculate the pixel to world transformation matrix.\u001b[39;00m\n\u001b[0;32m---> 19\u001b[0m pixel_to_world_matrix \u001b[39m=\u001b[39m camera_parameters\u001b[39m.\u001b[39;49mget_pixel_to_world_matrix()\n\u001b[1;32m     21\u001b[0m \u001b[39m# Multiply the pixel coordinates by the pixel to world transformation matrix.\u001b[39;00m\n\u001b[1;32m     22\u001b[0m world_coords \u001b[39m=\u001b[39m np\u001b[39m.\u001b[39mmatmul(pixel_to_world_matrix, pixel_coords \u001b[39m-\u001b[39m pixel_center)\n",
      "Cell \u001b[0;32mIn[6], line 41\u001b[0m, in \u001b[0;36mCameraParameters.get_pixel_to_world_matrix\u001b[0;34m(self)\u001b[0m\n\u001b[1;32m     38\u001b[0m R \u001b[39m=\u001b[39m \u001b[39mself\u001b[39m\u001b[39m.\u001b[39mrotation\n\u001b[1;32m     39\u001b[0m t \u001b[39m=\u001b[39m np\u001b[39m.\u001b[39marray(\u001b[39mself\u001b[39m\u001b[39m.\u001b[39mtranslation)\n\u001b[0;32m---> 41\u001b[0m pixel_to_world_matrix \u001b[39m=\u001b[39m np\u001b[39m.\u001b[39mlinalg\u001b[39m.\u001b[39minv(K) \u001b[39m@\u001b[39m R \u001b[39m@\u001b[39m np\u001b[39m.\u001b[39;49mvstack((t, [\u001b[39m1\u001b[39;49m]))\n\u001b[1;32m     43\u001b[0m \u001b[39mreturn\u001b[39;00m pixel_to_world_matrix\n",
      "File \u001b[0;32m<__array_function__ internals>:200\u001b[0m, in \u001b[0;36mvstack\u001b[0;34m(*args, **kwargs)\u001b[0m\n",
      "File \u001b[0;32m~/anaconda3/envs/adt/lib/python3.9/site-packages/numpy/core/shape_base.py:296\u001b[0m, in \u001b[0;36mvstack\u001b[0;34m(tup, dtype, casting)\u001b[0m\n\u001b[1;32m    294\u001b[0m \u001b[39mif\u001b[39;00m \u001b[39mnot\u001b[39;00m \u001b[39misinstance\u001b[39m(arrs, \u001b[39mlist\u001b[39m):\n\u001b[1;32m    295\u001b[0m     arrs \u001b[39m=\u001b[39m [arrs]\n\u001b[0;32m--> 296\u001b[0m \u001b[39mreturn\u001b[39;00m _nx\u001b[39m.\u001b[39;49mconcatenate(arrs, \u001b[39m0\u001b[39;49m, dtype\u001b[39m=\u001b[39;49mdtype, casting\u001b[39m=\u001b[39;49mcasting)\n",
      "File \u001b[0;32m<__array_function__ internals>:200\u001b[0m, in \u001b[0;36mconcatenate\u001b[0;34m(*args, **kwargs)\u001b[0m\n",
      "\u001b[0;31mValueError\u001b[0m: all the input array dimensions except for the concatenation axis must match exactly, but along dimension 1, the array at index 0 has size 3 and the array at index 1 has size 1"
     ]
    }
   ],
   "source": [
    "camera_parameters = CameraParameters()\n",
    "\n",
    "# Define the pixel coordinates.\n",
    "pixel_coords = np.array([200, 200])\n",
    "\n",
    "# Convert the pixel coordinates to world coordinates.\n",
    "world_coords = pixel_to_world(pixel_coords, camera_parameters)\n",
    "\n",
    "print(world_coords)"
   ]
  }
 ],
 "metadata": {
  "kernelspec": {
   "display_name": "base",
   "language": "python",
   "name": "python3"
  },
  "language_info": {
   "codemirror_mode": {
    "name": "ipython",
    "version": 3
   },
   "file_extension": ".py",
   "mimetype": "text/x-python",
   "name": "python",
   "nbconvert_exporter": "python",
   "pygments_lexer": "ipython3",
   "version": "3.9.17"
  },
  "orig_nbformat": 4
 },
 "nbformat": 4,
 "nbformat_minor": 2
}
